{
 "cells": [
  {
   "cell_type": "markdown",
   "metadata": {},
   "source": [
    "## README\n",
    "\n",
    "This is your ROSJect documentation!\n",
    "\n",
    "A place to present your ROS Project to the world!\n",
    "\n",
    "How to customize it:\n",
    "\n",
    "- Open your ROSJect\n",
    "\n",
    "- Edit the default jupyter notebook file (**/home/user/notebook_ws/default.ipynb**)\n",
    "\n",
    "- Close or wait for it to be saved automatically\n",
    "\n",
    "- Your **Readme** will be updated based on your notebook"
   ]
  },
  {
   "cell_type": "code",
   "execution_count": 1,
   "metadata": {},
   "outputs": [
    {
     "name": "stdout",
     "output_type": "stream",
     "text": [
      "Hello from my ROSJect!\n"
     ]
    }
   ],
   "source": [
    "print 'Hello from my ROSJect!'"
   ]
  },
  {
   "cell_type": "code",
   "execution_count": 1,
   "metadata": {},
   "outputs": [
    {
     "ename": "SyntaxError",
     "evalue": "invalid syntax (<ipython-input-1-3c12b4fe5ec7>, line 2)",
     "output_type": "error",
     "traceback": [
      "\u001b[0;36m  File \u001b[0;32m\"<ipython-input-1-3c12b4fe5ec7>\"\u001b[0;36m, line \u001b[0;32m2\u001b[0m\n\u001b[0;31m    source ~/arna_base/devel/setup.bash\u001b[0m\n\u001b[0m           ^\u001b[0m\n\u001b[0;31mSyntaxError\u001b[0m\u001b[0;31m:\u001b[0m invalid syntax\n"
     ]
    }
   ],
   "source": [
    "source /opt/ros/kinetic/setup.bash\n",
    "source ~/arna_base/devel/setup.bash\n",
    "source ~/simulation_ws/devel/setup.bash\n",
    "source kortex_ws/devel/setup.bash"
   ]
  },
  {
   "cell_type": "code",
   "execution_count": null,
   "metadata": {},
   "outputs": [],
   "source": [
    "mkdir -p ~/arna_base/src\n",
    "cd ~/arna_base/\n",
    "# 1. create the folder \n",
    "# 2. then copy src folder into the workspace\n",
    "catkin_make\n",
    "#source the workspace\n",
    "source ~/arna_base/devel/setup.bash\n",
    "source ~/simulation_ws/devel/setup.bash"
   ]
  },
  {
   "cell_type": "code",
   "execution_count": 2,
   "metadata": {},
   "outputs": [
    {
     "ename": "SyntaxError",
     "evalue": "invalid syntax (<ipython-input-2-09d7ae7375d9>, line 1)",
     "output_type": "error",
     "traceback": [
      "\u001b[0;36m  File \u001b[0;32m\"<ipython-input-2-09d7ae7375d9>\"\u001b[0;36m, line \u001b[0;32m1\u001b[0m\n\u001b[0;31m    roslaunch rrbot_gazebo rrbot_world.launch\u001b[0m\n\u001b[0m                         ^\u001b[0m\n\u001b[0;31mSyntaxError\u001b[0m\u001b[0;31m:\u001b[0m invalid syntax\n"
     ]
    }
   ],
   "source": [
    "roslaunch rrbot_gazebo rrbot_world.launch"
   ]
  },
  {
   "cell_type": "code",
   "execution_count": null,
   "metadata": {},
   "outputs": [],
   "source": [
    "#rosinstall ~/arna_base /opt/ros/kinetic\n",
    "#source /home/user/arna_base/setup.bash\n",
    "#roslaunch arna_base_gazebo  arna_base_world.launch"
   ]
  },
  {
   "cell_type": "markdown",
   "metadata": {},
   "source": [
    "# Adding hospital simulation to the project "
   ]
  },
  {
   "cell_type": "code",
   "execution_count": null,
   "metadata": {},
   "outputs": [],
   "source": [
    "#https://www.youtube.com/watch?v=o5Nu2VuYZqA&ab_channel=TheConstruct\n",
    "git clone https://github.com/aws-robotics/aws-robomaker-hospital-world.git\n",
    "cd ..\n",
    "catkin_make\n",
    "source devel/setup.bash\n",
    "rospack profile"
   ]
  },
  {
   "cell_type": "code",
   "execution_count": null,
   "metadata": {},
   "outputs": [],
   "source": [
    "#added ARNA to hospital.launch\n",
    "<launch>\n",
    "  <!-- Always set GUI to false for AWS RoboMaker Simulation\n",
    "       Use gui:=true on roslaunch command-line to run with a gui.\n",
    "  -->\n",
    "  <arg name=\"gui\" default=\"false\"/>\n",
    "\n",
    "  <include file=\"$(find gazebo_ros)/launch/empty_world.launch\">\n",
    "    <arg name=\"world_name\" value=\"$(find aws_robomaker_hospital_world)/worlds/hospital.world\"/>\n",
    "    <arg name=\"paused\" default=\"false\"/>\n",
    "    <arg name=\"use_sim_time\" default=\"true\"/>\n",
    "    <arg name=\"gui\" default=\"$(arg gui)\"/>\n",
    "    <arg name=\"headless\" default=\"false\"/>\n",
    "    <arg name=\"debug\" default=\"false\"/>\n",
    "    <arg name=\"verbose\" default=\"true\"/>\n",
    "  </include>\n",
    "\n",
    "  <!-- Load the URDF into the ROS Parameter Server -->\n",
    "  <param name=\"arna_base/robot_description\"\n",
    "    command=\"$(find xacro)/xacro --inorder '$(find arna_base_description)/urdf/arna_base.xacro'\" />\n",
    "\n",
    "  <!-- Run a python script to the send a service call to gazebo_ros to spawn a URDF robot -->\n",
    "  <node name=\"urdf_spawner\" pkg=\"gazebo_ros\" type=\"spawn_model\" respawn=\"false\" output=\"screen\"\n",
    "    args=\"-urdf -model arna_base -param arna_base/robot_description -x_pos 0.0 -y_pos 10.0\"/>\n",
    "\n",
    "  <!-- ros_control rrbot launch file -->\n",
    "  <!--include file=\"$(find arna_base_control)/launch/arna_base_control.launch\" /-->\n",
    "  <include file=\"$(find arna_base_control)/launch/arna_base_control.launch\" />\n",
    "\n",
    "</launch>\n"
   ]
  },
  {
   "cell_type": "code",
   "execution_count": 3,
   "metadata": {},
   "outputs": [
    {
     "ename": "SyntaxError",
     "evalue": "invalid syntax (<ipython-input-3-df12f920792e>, line 1)",
     "output_type": "error",
     "traceback": [
      "\u001b[0;36m  File \u001b[0;32m\"<ipython-input-3-df12f920792e>\"\u001b[0;36m, line \u001b[0;32m1\u001b[0m\n\u001b[0;31m    roslaunch arna_base_gazebo arna_base_world.launch\u001b[0m\n\u001b[0m                             ^\u001b[0m\n\u001b[0;31mSyntaxError\u001b[0m\u001b[0;31m:\u001b[0m invalid syntax\n"
     ]
    }
   ],
   "source": [
    "roslaunch arna_base_gazebo arna_base_world.launch\n",
    "roslaunch aws_robomaker_hospital_world view_hospital.launch"
   ]
  },
  {
   "cell_type": "code",
   "execution_count": null,
   "metadata": {},
   "outputs": [],
   "source": [
    "user:~/arna_base$ roslaunch arna_base_control arna_base_control.launch"
   ]
  },
  {
   "cell_type": "code",
   "execution_count": 1,
   "metadata": {},
   "outputs": [
    {
     "ename": "SyntaxError",
     "evalue": "invalid syntax (<ipython-input-1-32d6c56777bf>, line 1)",
     "output_type": "error",
     "traceback": [
      "\u001b[0;36m  File \u001b[0;32m\"<ipython-input-1-32d6c56777bf>\"\u001b[0;36m, line \u001b[0;32m1\u001b[0m\n\u001b[0;31m    user:~$ rostopic list\u001b[0m\n\u001b[0m        ^\u001b[0m\n\u001b[0;31mSyntaxError\u001b[0m\u001b[0;31m:\u001b[0m invalid syntax\n"
     ]
    }
   ],
   "source": [
    "user:~$ rostopic list\n",
    "rostopic pub /arna_base/arna_base_controller/cmd_vel\n",
    "\n",
    "rostopic pub /arna_base/arna_base_controller/cmd_vel geometry_msgs/Twist -r 3 -- '[0.5,0.0,0.0]' '[0.0, 0.0, 0.0]'"
   ]
  },
  {
   "cell_type": "code",
   "execution_count": null,
   "metadata": {},
   "outputs": [],
   "source": [
    "source ~/arna_base/devel/setup.bash\n",
    "\n",
    "roslaunch arna_base_control arna_base_control.launch\n",
    "\n",
    "rostopic pub /arna_base/arna_base_controller/cmd_vel\n",
    "\n",
    "#sudo apt install ros-kinetic-teleop-twist-keyboard\n",
    "rosrun teleop_twist_keyboard teleop_twist_keyboard.py\n"
   ]
  },
  {
   "cell_type": "markdown",
   "metadata": {},
   "source": [
    "SHELL TAB #1"
   ]
  },
  {
   "cell_type": "code",
   "execution_count": 1,
   "metadata": {
    "collapsed": true
   },
   "outputs": [
    {
     "ename": "SyntaxError",
     "evalue": "invalid syntax (<ipython-input-1-7145f172049f>, line 1)",
     "output_type": "error",
     "traceback": [
      "\u001b[0;36m  File \u001b[0;32m\"<ipython-input-1-7145f172049f>\"\u001b[0;36m, line \u001b[0;32m1\u001b[0m\n\u001b[0;31m    source ~/simulation_ws/devel/setup.bash\u001b[0m\n\u001b[0m           ^\u001b[0m\n\u001b[0;31mSyntaxError\u001b[0m\u001b[0;31m:\u001b[0m invalid syntax\n"
     ]
    }
   ],
   "source": [
    "source ~/simulation_ws/devel/setup.bash\n",
    "roslaunch aws_robomaker_hospital_world view_hospital.launch"
   ]
  },
  {
   "cell_type": "markdown",
   "metadata": {},
   "source": [
    "SHELL TAB #2"
   ]
  },
  {
   "cell_type": "code",
   "execution_count": null,
   "metadata": {},
   "outputs": [],
   "source": [
    "source ~/arna_base/devel/setup.bash\n",
    "roslaunch arna_base_control arna_base_control.launch"
   ]
  },
  {
   "cell_type": "markdown",
   "metadata": {},
   "source": [
    "SHELL TAB #3"
   ]
  },
  {
   "cell_type": "code",
   "execution_count": null,
   "metadata": {},
   "outputs": [],
   "source": [
    "rosrun teleop_twist_keyboard teleop_twist_keyboard.py cmd_vel:=/arna_base/arna_base_controller/cmd_vel\n",
    "rostopic echo /arna_base/arna_base_controller/cmd_vel"
   ]
  },
  {
   "cell_type": "markdown",
   "metadata": {},
   "source": [
    "If this error:\n",
    "WARNING: no messages received and simulated time is active.\n",
    "Is /clock being published?\n",
    "run the following command:\n",
    "\n",
    "rosparam set use_sim_time false\n",
    "\n",
    "\n",
    "https://answers.ros.org/question/12083/messages-being-blocked-from-publishing/"
   ]
  },
  {
   "cell_type": "code",
   "execution_count": null,
   "metadata": {},
   "outputs": [],
   "source": [
    "#http://library.isr.ist.utl.pt/docs/roswiki/slam_gmapping(2f)Tutorials(2f)MappingFromLoggedData.html#record\n",
    "\n",
    "#tab 1\n",
    "rosmake gmapping\n",
    "rosbag record -O mylaserdata /scan /tf\n",
    "\n",
    "roscore\n",
    "rosparam set use_sim_time true\n",
    "\n",
    "#tab 2\n",
    "rosrun gmapping slam_gmapping scan:=scan\n",
    "rosrun gmapping slam_gmapping scan:=scan _odom_frame:=arna_base/arna_base_controller/odom\n",
    "\n",
    "#tab3\n",
    "rosbag play mylaserdata.bag\n",
    "rosbag play --clock mylaserdata.bag\n",
    "\n",
    "rosrun map_server map_saver\n",
    "rosrun map_server map_saver -f my_map_simulation\n",
    "rosrun rviz rviz \n"
   ]
  }
 ],
 "metadata": {
  "kernelspec": {
   "display_name": "Python 2",
   "language": "python",
   "name": "python2"
  },
  "language_info": {
   "codemirror_mode": {
    "name": "ipython",
    "version": 2
   },
   "file_extension": ".py",
   "mimetype": "text/x-python",
   "name": "python",
   "nbconvert_exporter": "python",
   "pygments_lexer": "ipython2",
   "version": "2.7.16"
  }
 },
 "nbformat": 4,
 "nbformat_minor": 1
}
